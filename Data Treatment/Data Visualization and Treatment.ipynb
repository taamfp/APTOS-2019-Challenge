{
 "cells": [
  {
   "cell_type": "code",
   "execution_count": 1,
   "metadata": {},
   "outputs": [],
   "source": [
    "import pandas as pd\n",
    "import numpy as np\n",
    "import seaborn as sns\n",
    "import matplotlib.pyplot as plt\n",
    "\n",
    "%matplotlib inline\n",
    "\n",
    "import os.path\n",
    "import zipfile\n",
    "import cv2"
   ]
  },
  {
   "cell_type": "code",
   "execution_count": 2,
   "metadata": {},
   "outputs": [],
   "source": [
    "train_path_labels = 'train.csv'\n",
    "test_path_labels = 'test.csv'\n",
    "train_images = 'train_images.zip'\n",
    "test_images = 'test_images.zip'\n",
    "\n",
    "\n",
    "\n",
    "train_labels = pd.read_csv(train_path_labels)\n",
    "test_labels = pd.read_csv(test_path_labels)\n"
   ]
  },
  {
   "cell_type": "code",
   "execution_count": 3,
   "metadata": {},
   "outputs": [
    {
     "data": {
      "text/html": [
       "<div>\n",
       "<style scoped>\n",
       "    .dataframe tbody tr th:only-of-type {\n",
       "        vertical-align: middle;\n",
       "    }\n",
       "\n",
       "    .dataframe tbody tr th {\n",
       "        vertical-align: top;\n",
       "    }\n",
       "\n",
       "    .dataframe thead th {\n",
       "        text-align: right;\n",
       "    }\n",
       "</style>\n",
       "<table border=\"1\" class=\"dataframe\">\n",
       "  <thead>\n",
       "    <tr style=\"text-align: right;\">\n",
       "      <th></th>\n",
       "      <th>id_code</th>\n",
       "      <th>diagnosis</th>\n",
       "    </tr>\n",
       "  </thead>\n",
       "  <tbody>\n",
       "    <tr>\n",
       "      <th>0</th>\n",
       "      <td>000c1434d8d7</td>\n",
       "      <td>2</td>\n",
       "    </tr>\n",
       "    <tr>\n",
       "      <th>1</th>\n",
       "      <td>001639a390f0</td>\n",
       "      <td>4</td>\n",
       "    </tr>\n",
       "    <tr>\n",
       "      <th>2</th>\n",
       "      <td>0024cdab0c1e</td>\n",
       "      <td>1</td>\n",
       "    </tr>\n",
       "    <tr>\n",
       "      <th>3</th>\n",
       "      <td>002c21358ce6</td>\n",
       "      <td>0</td>\n",
       "    </tr>\n",
       "    <tr>\n",
       "      <th>4</th>\n",
       "      <td>005b95c28852</td>\n",
       "      <td>0</td>\n",
       "    </tr>\n",
       "  </tbody>\n",
       "</table>\n",
       "</div>"
      ],
      "text/plain": [
       "        id_code  diagnosis\n",
       "0  000c1434d8d7          2\n",
       "1  001639a390f0          4\n",
       "2  0024cdab0c1e          1\n",
       "3  002c21358ce6          0\n",
       "4  005b95c28852          0"
      ]
     },
     "execution_count": 3,
     "metadata": {},
     "output_type": "execute_result"
    }
   ],
   "source": [
    "train_labels.head()"
   ]
  },
  {
   "cell_type": "code",
   "execution_count": 4,
   "metadata": {},
   "outputs": [
    {
     "data": {
      "text/plain": [
       "-1"
      ]
     },
     "execution_count": 4,
     "metadata": {},
     "output_type": "execute_result"
    },
    {
     "data": {
      "text/plain": [
       "<Figure size 720x144 with 0 Axes>"
      ]
     },
     "metadata": {},
     "output_type": "display_data"
    }
   ],
   "source": [
    "## Reading some images and compare \n",
    "\n",
    "fig=plt.figure(figsize=(10, 2))\n",
    "\n",
    "with zipfile.ZipFile(train_images, 'r') as zfile:\n",
    "    data1 = zfile.read('005b95c28852.png')\n",
    "    data2 = zfile.read('001639a390f0.png')\n",
    "\n",
    "img1 = cv2.imdecode(np.frombuffer(data1, np.uint8), 5)\n",
    "img2 = cv2.imdecode(np.frombuffer(data2, np.uint8), 5)\n",
    "\n",
    "img1 = cv2.resize(img1, (960, 540)) \n",
    "img2 = cv2.resize(img2, (960, 540))\n",
    "\n",
    "gray1 = cv2.cvtColor(img1, cv2.COLOR_BGR2GRAY)\n",
    "gray2 = cv2.cvtColor(img2, cv2.COLOR_BGR2GRAY)\n",
    "\n",
    "cv2.imshow('Healthy',gray1)\n",
    "cv2.imshow('Number4',gray2)\n",
    "cv2.waitKey(0)"
   ]
  },
  {
   "cell_type": "code",
   "execution_count": 5,
   "metadata": {},
   "outputs": [],
   "source": [
    "hist = np.histogram(gray2.flatten(),256,[0,256])[0]"
   ]
  },
  {
   "cell_type": "code",
   "execution_count": 6,
   "metadata": {},
   "outputs": [
    {
     "data": {
      "text/plain": [
       "array([ 1922, 38131, 79268,  8436,  1988,   900,   361,   190,   120,\n",
       "          78,    84,    46,    52,    48,    46,    38,    30,    34,\n",
       "          28,    33,    30,    29,    20,    30,    23,    21,    26,\n",
       "          21,    29,    24,    31,    23,    24,    33,    21,    23,\n",
       "          24,    25,    24,    21,    21,    23,    19,    29,    21,\n",
       "          20,    23,    23,    27,    28,    21,    21,    22,    16,\n",
       "          21,    21,    22,    25,    19,    29,    20,    17,    27,\n",
       "          26,    26,    28,    32,    44,    31,    30,    32,    27,\n",
       "          28,    59,    80,   113,   162,   150,   194,   289,   369,\n",
       "         526,   814,  1116,  1874,  2778,  3825,  5094,  6812,  8639,\n",
       "       10371, 11892, 13271, 14365, 15834, 17593, 18948, 20301, 20821,\n",
       "       20925, 21014, 20599, 20354, 18645, 17160, 14796, 12922, 11010,\n",
       "        9318,  8160,  6902,  5267,  3908,  2881,  2419,  1938,  1548,\n",
       "        1224,   946,   773,   651,   498,   424,   345,   318,   311,\n",
       "         284,   208,   222,   226,   207,   147,   174,   130,   136,\n",
       "         115,   142,   137,   134,   115,    99,   107,    80,    80,\n",
       "         101,   101,    95,    70,    52,    60,    69,    74,    51,\n",
       "          53,    39,    46,    33,    23,    28,    13,    20,    15,\n",
       "          11,     3,     0,     0,     0,     0,     0,     0,     0,\n",
       "           0,     0,     0,     0,     0,     0,     0,     0,     0,\n",
       "           0,     0,     0,     0,     0,     0,     0,     0,     0,\n",
       "           0,     0,     0,     0,     0,     0,     0,     0,     0,\n",
       "           0,     0,     0,     0,     0,     0,     0,     0,     0,\n",
       "           0,     0,     0,     0,     0,     0,     0,     0,     0,\n",
       "           0,     0,     0,     0,     0,     0,     0,     0,     0,\n",
       "           0,     0,     0,     0,     0,     0,     0,     0,     0,\n",
       "           0,     0,     0,     0,     0,     0,     0,     0,     0,\n",
       "           0,     0,     0,     0,     0,     0,     0,     0,     0,\n",
       "           0,     0,     0,     0], dtype=int64)"
      ]
     },
     "execution_count": 6,
     "metadata": {},
     "output_type": "execute_result"
    }
   ],
   "source": [
    "hist"
   ]
  },
  {
   "cell_type": "code",
   "execution_count": 22,
   "metadata": {},
   "outputs": [],
   "source": [
    "from os import listdir,makedirs\n",
    "from os.path import isfile,join\n",
    "\n",
    "path_train = r'Train_Images' # Source Folder\n",
    "path_train_gray = r'Gray_Images' # Destination Folder\n",
    "\n",
    "\n",
    "files = [f for f in listdir(path_train) if isfile(join(path_train,f))] \n",
    "\n",
    "for image in files:\n",
    "    img = cv2.imread(os.path.join(path_train,image))\n",
    "    gray = cv2.cvtColor(img,cv2.COLOR_BGR2GRAY)\n",
    "    dstPath = join(path_train_gray,image)\n",
    "    cv2.imwrite(dstPath,gray)"
   ]
  },
  {
   "cell_type": "code",
   "execution_count": 35,
   "metadata": {},
   "outputs": [],
   "source": [
    "files = [f for f in listdir(path_train_gray) if isfile(join(path_train_gray,f))] \n",
    "\n",
    "for images in files:\n",
    "    img = cv2.imread(os.path.join(path_train_gray,image))\n",
    "    resized_image = cv2.resize(img, (128, 128))\n",
    "    same_path = join(path_train_gray,images)\n",
    "    cv2.imwrite(same_path, resized_image)\n",
    "    "
   ]
  },
  {
   "cell_type": "code",
   "execution_count": 43,
   "metadata": {},
   "outputs": [],
   "source": [
    "def image_processing(original_path, new_path):\n",
    "    files = [f for f in listdir(original_path) if isfile(join(original_path,f))] \n",
    "    for image in files:\n",
    "        img = cv2.imread(os.path.join(original_path,image))\n",
    "        gray = cv2.cvtColor(img,cv2.COLOR_BGR2GRAY)\n",
    "        #Check image entrance do CNN model\n",
    "        resized_image = cv2.resize(gray, (128, 128))\n",
    "        different_path = join(new_path,image)\n",
    "        cv2.imwrite(different_path,resized_image)"
   ]
  },
  {
   "cell_type": "code",
   "execution_count": 44,
   "metadata": {},
   "outputs": [],
   "source": [
    "original_path_train = r'Train_Images' # Source Folder\n",
    "new_path_train = r'Gray_Images' # Destination Folder\n",
    "\n",
    "image_processing(original_path_train, new_path_train)"
   ]
  },
  {
   "cell_type": "code",
   "execution_count": null,
   "metadata": {},
   "outputs": [],
   "source": []
  }
 ],
 "metadata": {
  "kernelspec": {
   "display_name": "Python 3",
   "language": "python",
   "name": "python3"
  },
  "language_info": {
   "codemirror_mode": {
    "name": "ipython",
    "version": 3
   },
   "file_extension": ".py",
   "mimetype": "text/x-python",
   "name": "python",
   "nbconvert_exporter": "python",
   "pygments_lexer": "ipython3",
   "version": "3.6.8"
  }
 },
 "nbformat": 4,
 "nbformat_minor": 2
}
